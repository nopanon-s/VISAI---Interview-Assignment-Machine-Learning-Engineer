{
 "cells": [
  {
   "cell_type": "code",
   "execution_count": 3,
   "metadata": {},
   "outputs": [],
   "source": [
    "import base64\n",
    "from   ToProtoc import ToProtoc as ToProtoc"
   ]
  },
  {
   "cell_type": "code",
   "execution_count": 4,
   "metadata": {},
   "outputs": [],
   "source": [
    "with open(\"./dummy.png\", \"rb\") as img_file:\n",
    "    base64_string = base64.b64encode(img_file.read())\n",
    "\n",
    "car        = ToProtoc()\n",
    "info       = { 'id':'A01B02B04FF20230401090530', 'image_data':base64_string, 'datetime':'1680289765097', 'bounding_box':'[[24,54,61,57],[48,46,48,84]]', 'lat':23.55, 'long':48.66 }\n",
    "file_bytes = car.add(info)"
   ]
  },
  {
   "cell_type": "code",
   "execution_count": 5,
   "metadata": {},
   "outputs": [
    {
     "data": {
      "text/plain": [
       "b'\\n\\x19A01B02B04FF20230401090530\\x12\\x940iVBORw0KGgoAAAANSUhEUgAAASwAAACoCAMAAABt9SM9AAAAwFBMVEX///8kluz///0kl+v///wklu3//v8Mj+f8///D4ev3/v0mlukAi+KeyuzP6vselO1Up91YpN4AjOkOke2jzubC3/PW7fqt0+6i0fBmsOmh0OXK6/UNjODg8Pe23esAiOJTpuiFveXw//+Xyu+23PEAi+oAh9wajt7p9vjY8fdtsOE6muAnluQAheFlqdxXoNZ4s90AhOUei9a95fmJxOdHndt9v+vg9fbs//xDnuKCwO/f8/7C5+6Wy+c3ld5nuOlmELpNAAARCElEQVR4nO1dC0PiuhJO04bUthBpeKllkVqlPNbj3St69Fw5//9f3ZlJW4rPdWUXqf3OuocAQfLtZDIzmUwYq1GjRo0aNWrUqFGjRo0aNWrUqDi4+cPNwxovw2EuB6IQLufOrr/O54YL0pTLE/C10+/y6eGkzbMm4azZ92rJeh3HoVJKArT83qvJehXOsfZtAbAsFfRqBf86jiXwRLDD3q6/zGdHTdY7UJP1DtRkvQM1WT8PDmT5xJXwR/Vq+AaOlYV2gyUsFdZkvQ4n+T7K8X1YG6WvwmVxAc/58r4hd1+dXOUXGy++s5HFcCoO7rhOfNku0ONp1jpst/+a8t5fxUuXsfMcIRyedV2XfwW2YJQ9dJYN9Bk7uTAPhWXrPj/WyqKmpc6fV/C8gbEbIOwLaDSOZFk55JlzEhhbQfmW6jNwpLOXxAumA0a5OHL+p7/5DoCSVRielgLJkvljSwNZ0jds+ZZ83igFlq7OPMf5CkFnGCuQhbABEsiKRNZURBYaWhijES+QxXgS6PkJJ9mqOGGwkPWkVZasKJ93NpFVSN0L7o7rrYQvggQWS151Lf8mWflLL/mG/EwK2xejAemtL07WW450PLFs9B9HCYrVs9ZFZfBhsvoanGxhW2p0gjPxD3/9PwFefvjIzgpE1rBDNB2ylhDnRNaajmzbtW35wloo27bmXkXJwqWe9DFYlOnlYYEDnv5VNNo91lu3Dj1kCgz2rCN+gtOIR8UKoJucN3Y9st8Bh7bkaaN5w/LmjbK37G64g67jctfNNqjzDdiD9RwWE+/PfPk/DNcrAMNfNzzWcEotp7HxGtBVaiFjLhurtcKLBpXctJ6PwlEYIL7PWHoR5Bgl7PbCvDA6H33vsm/fg1HWvEjZ4D9h1gx/pEbAZmuyLNGupOkQgZtsmxGegm8ocpCCt40FL0TmG5qmD6vhWFu04Qq8RFPKFWHtNVm2kPH6V/DKRG2itTicvsN0GGtfGY5FdGuSkUpkCRH8d3qQDAb9g6lHKvH1WNm+YE2W+ABZSMVpeRpakSREMjjsx7TmVgAfIMvfJOu+NA1tmLJW9kfpi2uvGpbEB6ZhiSycas11ZxsNeaPg4LFv6+WwEmRNRM4BSVYpnsVPokzzW75xpM2LtmXIEvk0HBpD7WRNFrwT4zzUFVizXwoX7hsiYZtVzvJP83hWLllZpFRkwT+QF4KvgSwlzFIJ2mnKaDl0J7ZVML8BIe52PcztQNqZwDzSWbKJpoMRDkWSpcHIIBqtAMmCBjVFcJuZ8tcannqWrTCphs660AVOnd6oaIRNfvIfSQ+V1ud91jkXKmuOcBoWuECyHDDhbyd+brI9wiGrhumQNAu0uDdYt1Lm9UstfrtudDw+XLf6rtnUYexGK/UMVWKS7nXg9IUvzzceb7T4o7fxjRZYUbdJ2/fz3JH8L4H/RS0Klu0twPE92CKSs6v5RJYsePrxfTC4hApaux7tB8FPfgRabg0YF9zU7Jnu8pVc3u56sB9FPAErybe3AJAeNBjsYlEtGQxKyUXT3fv4Q18r4grX/w/+RVPOtjZFSyihJjJYDuIKbIo11RNB+CAyq4tUOti3p+2jm2RowjN7T5a2xPMm0YfhK1sd7Xp8WwXtWv0ernxlhQdOlTJpElUsWFuGArJWrFK5NF29ZZVVAHXWgDlVSqTsyt9FFghsFDO3Smk0veD58MDHoSw13vXotoy/I/G7VkN0m3c9vO3CW4nfpOCFHldItxu01W8iy6qcYG1sxWwPuJsjr3c9tO3jWG+fKwV2rljFlRMs3httfxaiiSX7FXAGH4HHi+c3Yj4EW6gl7dXvenjbBWeXv8HOsu1gyrhbjc2JMppym/PQMI/avSIpIGVwPo3eGP87yaLt+rvqMcVos+Zuq/MQubKjaTXzuTnG/7aMUbLrUf0mcJZOtihaZDWMWaNCsYYSHMaOhG1vy5vGNKz2i3u3ew7MemkFtr81p0eou/jtX7uf4LihvtziPFTz6rk5OShVrzXaGldifltNdUXgDcdll9sK06BcVVJdEfBIhONMJ7h7+JEtMUE5trq6+qoAZwMphC/Ur8qXwIxRS8lZNU/qbABPvQFVL6XrvQ2fRCs4q7C6KuC6Tryy/A9kPfjCV4teZU6bvIqGC/608H95V0z5IpzFX4IqnIcO70lU8u+ZiUIoTDTC409y1f0KU7CAM11RhOUdtryPbhL8UdGD96W4AvFK29IW79gZ8yld1BejMRii7j5n1r4beGq3M8JyMz9LlhIwAXU0Tslcq1Bq0U+AOw6Px4H8abIWQkXLTkxHUHiVsmV+Bi4eFk/PVlJlGz4i3/gR5iwOmVPZGS+QwGA1nuLRe9ecJf9ywIF73ZtFhFUbBB56o9RQMtDNKSgTY1cyOL3ueV/DsHoJuNcHysebDmbzQEqsKGabzBFKSraEUpEcLQ7PunQQk39FgSpAERuHajy46cHx/ex0Nbm4oKP48L/J4nR2f9xNkSGg6kutf8+A1E+D9vzy2leuF6f/ANLYIzHK6mS4QCiv5h7OzyPXQo4RnsajF02Zi3Xu4xdnq0aNGjU+JzIL4FcMS7f6ZSI3gaXBnF/MOMNuX8oe9YxX5/wKWw4FDLf/nT4tYKxujGXYfoEsl3nV3Xh+Dpz3flycpr90ORrvTy5u3Cqd+HoL7p0S+tfO19xeKHt08IWCDjz2hVBHrxTAfxmtQFh6sP3v9GlBWd01WT+Hmqx3oCbrbWR1tHlBVv68SW58aXHMdHlG7COyuLldgBVWCF730dgMo24WsdmT4xeuuVIVfjKyiopWYJTToQgqtf2kl5uVBKZmTlbW1UVfwGGNLPxlQodumR/6hdwxNDkumv97kCpv7kqggT8hKxsK409j6w16W1H14xFZThY4zajMdnucsjCh9cupsDBmMjccvg8JzU7GleM+IoubfGwzo57Ei7Na07m5/4gs6oySaQSykanB8i51NsXxLdxxHJyFnzyGD1/PS1tJ0h16T6YhjC8edpOkl7JnSq+uu1HzEVkYkz/oeqwoWQ2f1O3+U05t426361FFQPqkXvyJlRZ+TdxCbc7luZRhuLjqMS8jC7QHisLBbBWGWstoOTAlpVHrkKZicfMuCCX0w244m9ZkmaK2fNqWeh5DC/k6OFqE9EvaiWuKlUGfdni+BNIHSxlqKc8nR5+2riTHOdJwzwKNFZJtATQFs1vfsogs7jTYsB0qYds+7jXrRUI6xqGpxdhDRN185Ss9mmEZ2xJZSKzbhA+2wj6FIobtCK/z830LU5EOspBZawRv+F8ykbRPi8XHopNds/ISUK/GbY17yjbdtmcrvbAFkYWXASQXVJoVd1Jxr/78CiaW42bdJL5mY3kZIFNPprwsWaDepkuJFwDLPtoO/YB2/22ze+2PxmaDrauFbd1phWU7kSsl1NWuSXkBOKniuaI7mbQOsRAr8aaIrAbrj6jYEbwmFRbUEvqS9pvRGpsrzAlUWobnuHPvq0VckixYJ64DhZKn26CTWCc0VbRgquH+tbDDGU5C3oXfafmYziWk1FpZQjZ3zcoLQG3aVj4WKTzqdFv9mwjzsPDWIZyG7CBA6uRinLS6D6d4JZGtr4zl6LZxlCrrNqFLT1JeUvAndxrpUdEAV4VugPkjenWTdJPrO4kFcPU1Lotd6WPZNtsKTh+6rWS8iC4/axo4SNa1hoHK9pSaLL4JFN33coTL4gSFJ2hm8byDFeaCBAlp+TMNAyy6pVeh0nOPyJID4Mq7AZ4xo6Y9RFHETwLeOp7J9+oucFKHqLe6mrJx1N3UfCMv3REVb6PhpHguQM/Mco3jSgLM9yDJusbqt6Bvc28lbsOQrZVH3bB+ftGNseRoNmSZZHF2sJCYaqOiPlpiDX6lYZr9mBamRzqHiU81grsadaU+3IdMeU43ArQzy5w8kWsJihZ9wzgQth98Y3lhMMeJV6BbwgQ4RcFSxdUKbmaUZ5IVzzBTEGiDGdVADZfCJ9lBD9ZQx+SN8NsJzL3zA0OWUEvX+eSmKEMPF/+JsVI0NcmfcedYfhzI+iZh6lxSWhq9Cpx1JUy+I+pm+0U3vCjFvAvJUv+uFE4zBYYG5pSChdWHVdG6Lu2ScZ6A3lKg44ms4GQfgqv0bw6EODlZ4Pc6HVQjR1hhRVhBKy/1S56Jt4LlcuKZbrMi5AASA5IBzgqQBSumoqvobmKW3wk2Az0oD4ZlTDFdcOlxJEud4rmqnZHw0+jCQq47xajRJmDDEa2G7FQhMawIKeCEAgJVdEu1yHR/HSAwHjJZ8Dae9lmAbr8ip7KBJtkdmG9CRxLshjCr8grriLIij6ahOmN7UbQ7Ac2rWxvbyDz2jc7C6bhRpx3kD++Ri1osAb2mW09dRSJrYVtgMNlyVvjdC6q2+OSchghTIksm+0AWp/o8MOqNJz3j7gBZWAK+/AodE7OiFsdrY567WZvIUvruEOi2o7Osl+ub7NMn1XHDlKahhEXk85PFSESwlk75uRTsRCw1dwpkLUpLOgoSVooCxd4NfZSHJyCyoqbnLtEnGB3jJcncYeAj2L56UqsZjPg1WZ9fwbNhCAv3v5tkJWBegR5jV6Cog+n6efS678CtmcSg1kDBP+PDkZ11hlN5hbZt0MWZ6LBDMP3lQ+cxEtfNyXL3gCzuLUCZ/4jRazbXn+HNS6BdwhbjHVT+Y2Zilyb+2wuALFi7vBXM1B9/cyMQjSLrJjdKG+z2Bxqw0tgED2BoIP1Pfj1nGVmfnyoUFhAfMODxYEAD7CgXployQiUNq+AtPPBHU7BJG5QcAz9LPNf6kHVT99CNNdDQNPrZKTnSbBqhRp+g98KHoVD+IqZ7u4v77Aw/BVmfX2m5rBf4vggH2S2EMIZeBKpKNRndhObbeGze4dmuxBiNe5liNwnezKjDHBNSB3vjGOZSmSznvxi+UquUDsSigdD28CI/E6AetK+NpbtHZMH3nml0asYxbUiAaxhhcY8fHljpfEj36sxbWaWP+EiCEYX3ODL09oS9CMZethuRTPT5VTmsDItBEsISqJZIEUxfmNLgLDskg/GlVFk2xf6QBSMFfw/tSL0666XptL9E2bFHXbO91cFL5+zgsjuMh61xhMcp0I2jcNYKz1joVRO6DZM2mF92lKJk2VnwD4+jBxgaO3TJJ/dhBssZfFLau55ggeU5fYX9IYvhRBxG2cIeRRiYw9hJxwQgGnwcUvxEy0mEp8LA6l7F2Y7WFLpZeTdQSQrWCXR3hFzf83gjgV8wToHdS4xgCCXlZBJqoewFKEpEV8PE/kY7ce4n3qso0FtZeKks8aRg/EE/92pBIkJ4IrvFSfi+nP/NWTakfxYYH6VeFJMeJQwkS/lysPaKZ5rklBRgSDdDWRSktoTMSj2Aay4iNB3S4+N0D05m8PQo0nhoHK1sEc5P8gMUOGZQRhhJxdg5eIVjj63PmsSXgcKQOm5BCDnvsYbTu1AL3S+lWGIEDI1eUGIdisKa09YqHHvGc8Y4Bk5D/tB56OyBBQGj7x7SWS+tR8sO7hmbgVCwPT6bjzTa+TqaTcEcc/IMW07dAjwiJkd3Awy0M3eprYishew98VIruoIIbNPb8SKkdwfR1Uk+5byV1D+gr9M57uwDWZiRwNJvD/f319+GLplU+SYppeJ60+Px/X2n61HcqqASzYmsWzJ0TQSQx2fjISuKIOITzewJjCDGJ5372f1DNy4V0kqvr1NKp/h2sA/plY187x4b/HFey+ZbS3nunDbE1jGt0kEnzh/15nSw1Vn3Xm9uO2x9J+s+rIg1atSoUaNGjRo1atSoUaNGjRo1atSoUaNGjRo1anxG/B9o6y+z3HF4tQAAAABJRU5ErkJggg==\\x1a\\r1680289765097\"\\x1d[[24,54,61,57],[48,46,48,84]]-ff\\xbcA5\\xd7\\xa3BB'"
      ]
     },
     "execution_count": 5,
     "metadata": {},
     "output_type": "execute_result"
    }
   ],
   "source": [
    "file_bytes"
   ]
  },
  {
   "cell_type": "code",
   "execution_count": null,
   "metadata": {},
   "outputs": [],
   "source": []
  }
 ],
 "metadata": {
  "kernelspec": {
   "display_name": "base",
   "language": "python",
   "name": "python3"
  },
  "language_info": {
   "codemirror_mode": {
    "name": "ipython",
    "version": 3
   },
   "file_extension": ".py",
   "mimetype": "text/x-python",
   "name": "python",
   "nbconvert_exporter": "python",
   "pygments_lexer": "ipython3",
   "version": "3.8.3"
  },
  "orig_nbformat": 4,
  "vscode": {
   "interpreter": {
    "hash": "40d3a090f54c6569ab1632332b64b2c03c39dcf918b08424e98f38b5ae0af88f"
   }
  }
 },
 "nbformat": 4,
 "nbformat_minor": 2
}
